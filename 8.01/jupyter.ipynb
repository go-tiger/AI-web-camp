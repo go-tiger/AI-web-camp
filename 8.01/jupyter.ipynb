{
 "cells": [
  {
   "cell_type": "code",
   "execution_count": 1,
   "metadata": {},
   "outputs": [
    {
     "name": "stdout",
     "output_type": "stream",
     "text": [
      "      name  age  salary\n",
      "0    Alice   25   50000\n",
      "1      Bob   30   60000\n",
      "2  Charlie   35   70000\n",
      "3    james   30  400000\n",
      "4    Alice   25   50000\n",
      "5      Bob   30   60000\n",
      "6  Charlie   35   70000\n",
      "7    james   30  400000\n"
     ]
    }
   ],
   "source": [
    "# Pandas 가져오기\n",
    "import pandas as pd\n",
    "\n",
    "# Data 불러오기\n",
    "data = pd.read_csv('my_data.csv')\n",
    "\n",
    "# 1. Unnamed:0라고 표기되는 열을 지운다. 단 Unnamed:0라 쓰지말고 새롭게 컬럼 이름을 만들어서 지운다.\n",
    "data = data.rename(columns={'Unnamed: 0': 'columnTest'})\n",
    "data = data.drop(['columnTest'], axis=1)\n",
    "  # 변경된거 확인\n",
    "print(data)"
   ]
  },
  {
   "cell_type": "code",
   "execution_count": 2,
   "metadata": {},
   "outputs": [
    {
     "name": "stdout",
     "output_type": "stream",
     "text": [
      "   name  age  salary\n",
      "  Alice   25   50000\n",
      "    Bob   30   60000\n",
      "Charlie   35   70000\n",
      "  james   30  400000\n",
      "  Alice   25   50000\n",
      "    Bob   30   60000\n",
      "Charlie   35   70000\n",
      "  james   30  400000\n"
     ]
    }
   ],
   "source": [
    "# 2. 0,1,2,3,4로 보여지는 index 부분을 지운다.\n",
    "print(data.to_string(index=False))"
   ]
  },
  {
   "cell_type": "code",
   "execution_count": 3,
   "metadata": {},
   "outputs": [
    {
     "name": "stdout",
     "output_type": "stream",
     "text": [
      "name  age  salary\n",
      " 앨리스   25   50000\n",
      "   밥   30   60000\n",
      "  찰리   35   70000\n",
      " 제임스   30  400000\n",
      " 앨리스   25   50000\n",
      "   밥   30   60000\n",
      "  찰리   35   70000\n",
      " 제임스   30  400000\n"
     ]
    }
   ],
   "source": [
    "# 3. name에 해당되는 영문 이름을 한글로 바꾼다.\n",
    "name_ko = {\n",
    "  'Alice': '앨리스',\n",
    "  'Bob': '밥',\n",
    "  'Charlie': '찰리',\n",
    "  'james': '제임스'\n",
    "}\n",
    "data['name'] = data['name'].map(name_ko)\n",
    "  # 변경된거 확인\n",
    "print(data.to_string(index=False))"
   ]
  },
  {
   "cell_type": "code",
   "execution_count": 4,
   "metadata": {},
   "outputs": [
    {
     "name": "stdout",
     "output_type": "stream",
     "text": [
      "name  age  salary\n",
      " 앨리스   25  50,000\n",
      "   밥   30  60,000\n",
      "  찰리   35  70,000\n",
      " 제임스   30 400,000\n",
      " 앨리스   25  50,000\n",
      "   밥   30  60,000\n",
      "  찰리   35  70,000\n",
      " 제임스   30 400,000\n"
     ]
    }
   ],
   "source": [
    "# 4. salary에 해당되는 숫자를 000 세자리 단위로 콤마를 넣어서 값을 바꿔 넣는다.\n",
    "data['salary'] = data['salary'].apply(lambda int_num : '{:,}'.format(int_num))\n",
    "  # 변경된거 확인\n",
    "print(data.to_string(index=False))"
   ]
  },
  {
   "cell_type": "code",
   "execution_count": 6,
   "metadata": {},
   "outputs": [],
   "source": [
    "# 5. 1~4를 처리하고 나서 csv파일로 저장한다.\n",
    "data.to_csv('re_my_data.csv', index=False)"
   ]
  }
 ],
 "metadata": {
  "kernelspec": {
   "display_name": "Python 3",
   "language": "python",
   "name": "python3"
  },
  "language_info": {
   "codemirror_mode": {
    "name": "ipython",
    "version": 3
   },
   "file_extension": ".py",
   "mimetype": "text/x-python",
   "name": "python",
   "nbconvert_exporter": "python",
   "pygments_lexer": "ipython3",
   "version": "3.8.6"
  },
  "orig_nbformat": 4
 },
 "nbformat": 4,
 "nbformat_minor": 2
}
